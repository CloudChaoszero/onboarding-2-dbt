{
 "cells": [
  {
   "cell_type": "markdown",
   "metadata": {},
   "source": [
    "# Source Configuration"
   ]
  },
  {
   "cell_type": "markdown",
   "metadata": {},
   "source": [
    "## Introduction\n",
    "\n",
    "This may seem optional, but I we start our model implementation by specifying our data source configuratins in a `.yml` file, coinciding with our model directory. \n",
    "\n",
    "This is great for long-term reference & configurations.\n",
    "\n",
    "### Why should I Care?\n",
    "\n",
    "#### My thoughts\n",
    "\n",
    "Well, there are cases where you have a reference to table `\"CuteDB\".\"NiceSchema\".\"Customers\"` in several locations of your Data model. However, what happense when you migrate to a new databse due to poor naming conventions from `\"CuteDB\".\"NiceSchema\".\"Customers\"` to `\"AwesomeDB\".\"NiceSchema\".\"Customers\"`.\n",
    "\n",
    "You can do a mass replacement in your repository, depending on your Code editor. Or, you can make the changes all in one data reference\n",
    "Before starting our model,"
   ]
  },
  {
   "cell_type": "markdown",
   "metadata": {},
   "source": [
    "#### Quoting dbt Docs:\n",
    "    \n",
    "Sources make it possible to name and describe the data loaded into your warehouse by your Extract and Load tools. By declaring these tables as sources in dbt, you can then\n",
    "\n",
    "* Use {{ source() }} function, helping define the lineage of your data\n",
    "* Test your assumptions about your source data\n",
    "* Calculate the freshness of your source data"
   ]
  },
  {
   "cell_type": "markdown",
   "metadata": {},
   "source": [
    "## Using Sources\n",
    "We configure our yml file for specifying source table references, in our upcoming modeling.\n",
    "This includes:\n",
    "* Snowflake specific table references\n",
    "* aliases\n",
    "> Note: We can add more to this file, like built-in test & documentation functionality, but we'll cover that in a later topic\n",
    "\n",
    "Now, let's see how we can [use Sources](https://docs.getdbt.com/docs/building-a-dbt-project/using-sources/) to specify our [source path configurations](https://docs.getdbt.com/reference/project-configs/source-paths/)"
   ]
  },
  {
   "cell_type": "markdown",
   "metadata": {},
   "source": [
    "Here is a snippet of what I implemented. Everything in comments will be in #'s"
   ]
  },
  {
   "cell_type": "markdown",
   "metadata": {},
   "source": [
    "![Sources Configuration](https://media.giphy.com/media/znj7WeVBgyRh1c7pO3/giphy.gif)"
   ]
  },
  {
   "cell_type": "markdown",
   "metadata": {},
   "source": [
    "Here's a snippet of what we implement for our source configuration\n",
    "```yml\n",
    "version: 2\n",
    "\n",
    "sources:\n",
    "  - name: customers # Customer alias for our table references in {{ source() }}\n",
    "    database: SNOWFLAKE_SAMPLE_DATA\n",
    "    schema: TPCDS_SF100TCL\n",
    "    loaded_at_field: _loaded_at\n",
    "    tables:\n",
    "      - name: CUSTOMER\n",
    "      - name: CUSTOMER_DEMOGRAPHICS\n",
    "      - name: CATALOG_SALES\n",
    "```"
   ]
  },
  {
   "cell_type": "markdown",
   "metadata": {},
   "source": [
    "## Tips\n",
    "\n",
    "### Errors\n",
    "\n",
    "\n",
    "Why do I receive an error:\n",
    "* `The selector 'snowflake_demo_catalog_sales' does not match any nodes and will be ignored`?\n",
    "    * Ans: This is because either our profiles.yml file does not have the right configuration, or our models have not been explicitly mentiones\n",
    "> Try out a prefix of `dbt --warn-error run ` in your dbt run (Available in 0.17+)\n",
    "\n",
    "## Other Questions\n",
    "* Why is my schema like `dev_{name}_tablename`?\n",
    "    * Recall our created profiles.yml file. We specified our default target to be `dev`. In the `dev` configuration, we specify our table & view creation under a prefix `dev_{name}`\n",
    "    > E.g. I had `schema: dev_raulingaverage`\n",
    "\n",
    "* How does dbt know to find my tablename in the sources file?\n",
    "    * Ans: We have our alias `customer` equivalent to `{DATABASE}.{SCHEMA}`\n",
    "\n",
    "* How can it access such table reference?\n",
    "    * Ans: In this tutorial, I am running on `SYSADMIN` in Snowflake. However, in a production environment, you may have to coordinate with your Snowflake admin to provide permissions to your particular table reference :/"
   ]
  }
 ],
 "metadata": {
  "kernelspec": {
   "display_name": "Python (dbt Course)",
   "language": "python",
   "name": "dbtcourse"
  },
  "language_info": {
   "codemirror_mode": {
    "name": "ipython",
    "version": 2
   },
   "file_extension": ".py",
   "mimetype": "text/x-python",
   "name": "python",
   "nbconvert_exporter": "python",
   "pygments_lexer": "ipython2",
   "version": "2.7.15"
  }
 },
 "nbformat": 4,
 "nbformat_minor": 2
}
