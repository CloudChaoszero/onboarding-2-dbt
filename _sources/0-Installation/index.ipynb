{
 "cells": [
  {
   "cell_type": "markdown",
   "metadata": {},
   "source": [
    "# Installation"
   ]
  },
  {
   "cell_type": "markdown",
   "metadata": {},
   "source": [
    "## Terminal Installation\n",
    "In your [Terminal prompt](https://support.apple.com/en-gb/guide/terminal/apd5265185d-f365-44cb-8b09-71a064a42125/mac#:~:text=Open%20Terminal,%2C%20then%20double%2Dclick%20Terminal.), enter the following commands, in order\n",
    "\n",
    "\n",
    "```bash\n",
    "\n",
    "conda create --name dbtcourse\n",
    "python -m ipykernel install --user --name dbtcourse --display-name \"Python (dbt Course)\"\n",
    "pip install --upgrade dbt==0.17.0\n",
    "```"
   ]
  },
  {
   "cell_type": "markdown",
   "metadata": {},
   "source": [
    "The above does the following:\n",
    "1. Setting up the Conda environment \"dbtcourse\"\n",
    "2. Creating a new kernel called \"dbtcourse\" for our Jupyter Notebooks\n",
    "3. installing dbt version 0.17.0. You can [find out more about this verison here](https://discourse.getdbt.com/t/release-dbt-v0-17-0/1248)."
   ]
  },
  {
   "cell_type": "code",
   "execution_count": 1,
   "metadata": {},
   "outputs": [
    {
     "name": "stdout",
     "output_type": "stream",
     "text": [
      "Requirement already up-to-date: dbt==0.17.0 in /Library/Frameworks/Python.framework/Versions/3.7/lib/python3.7/site-packages (0.17.0)\n",
      "Requirement already satisfied, skipping upgrade: dbt-snowflake==0.17.0 in /Library/Frameworks/Python.framework/Versions/3.7/lib/python3.7/site-packages (from dbt==0.17.0) (0.17.0)\n",
      "Requirement already satisfied, skipping upgrade: dbt-postgres==0.17.0 in /Library/Frameworks/Python.framework/Versions/3.7/lib/python3.7/site-packages (from dbt==0.17.0) (0.17.0)\n",
      "Requirement already satisfied, skipping upgrade: dbt-core==0.17.0 in /Library/Frameworks/Python.framework/Versions/3.7/lib/python3.7/site-packages (from dbt==0.17.0) (0.17.0)\n",
      "Requirement already satisfied, skipping upgrade: dbt-bigquery==0.17.0 in /Library/Frameworks/Python.framework/Versions/3.7/lib/python3.7/site-packages (from dbt==0.17.0) (0.17.0)\n",
      "Requirement already satisfied, skipping upgrade: dbt-redshift==0.17.0 in /Library/Frameworks/Python.framework/Versions/3.7/lib/python3.7/site-packages (from dbt==0.17.0) (0.17.0)\n",
      "Requirement already satisfied, skipping upgrade: cryptography<3,>=2 in /Library/Frameworks/Python.framework/Versions/3.7/lib/python3.7/site-packages (from dbt-snowflake==0.17.0->dbt==0.17.0) (2.6.1)\n",
      "Requirement already satisfied, skipping upgrade: urllib3<1.26.0,>=1.20 in /Library/Frameworks/Python.framework/Versions/3.7/lib/python3.7/site-packages (from dbt-snowflake==0.17.0->dbt==0.17.0) (1.24.3)\n",
      "Requirement already satisfied, skipping upgrade: snowflake-connector-python==2.2.1 in /Library/Frameworks/Python.framework/Versions/3.7/lib/python3.7/site-packages (from dbt-snowflake==0.17.0->dbt==0.17.0) (2.2.1)\n",
      "Requirement already satisfied, skipping upgrade: azure-common<2.0.0 in /Library/Frameworks/Python.framework/Versions/3.7/lib/python3.7/site-packages (from dbt-snowflake==0.17.0->dbt==0.17.0) (1.1.25)\n",
      "Requirement already satisfied, skipping upgrade: azure-storage-blob<12.0.0 in /Library/Frameworks/Python.framework/Versions/3.7/lib/python3.7/site-packages (from dbt-snowflake==0.17.0->dbt==0.17.0) (2.1.0)\n",
      "Requirement already satisfied, skipping upgrade: psycopg2-binary~=2.8 in /Library/Frameworks/Python.framework/Versions/3.7/lib/python3.7/site-packages (from dbt-postgres==0.17.0->dbt==0.17.0) (2.8.6)\n",
      "Requirement already satisfied, skipping upgrade: networkx<3,>=2.3 in /Library/Frameworks/Python.framework/Versions/3.7/lib/python3.7/site-packages (from dbt-core==0.17.0->dbt==0.17.0) (2.5)\n",
      "Requirement already satisfied, skipping upgrade: PyYAML>=3.11 in /Library/Frameworks/Python.framework/Versions/3.7/lib/python3.7/site-packages (from dbt-core==0.17.0->dbt==0.17.0) (5.1)\n",
      "Requirement already satisfied, skipping upgrade: idna<2.9 in /Library/Frameworks/Python.framework/Versions/3.7/lib/python3.7/site-packages (from dbt-core==0.17.0->dbt==0.17.0) (2.8)\n",
      "Requirement already satisfied, skipping upgrade: agate<2,>=1.6 in /Library/Frameworks/Python.framework/Versions/3.7/lib/python3.7/site-packages (from dbt-core==0.17.0->dbt==0.17.0) (1.6.1)\n",
      "Requirement already satisfied, skipping upgrade: requests<2.23.0,>=2.18.0 in /Library/Frameworks/Python.framework/Versions/3.7/lib/python3.7/site-packages (from dbt-core==0.17.0->dbt==0.17.0) (2.21.0)\n",
      "Requirement already satisfied, skipping upgrade: sqlparse<0.4,>=0.2.3 in /Library/Frameworks/Python.framework/Versions/3.7/lib/python3.7/site-packages (from dbt-core==0.17.0->dbt==0.17.0) (0.3.1)\n",
      "Requirement already satisfied, skipping upgrade: json-rpc<2,>=1.12 in /Library/Frameworks/Python.framework/Versions/3.7/lib/python3.7/site-packages (from dbt-core==0.17.0->dbt==0.17.0) (1.13.0)\n",
      "Requirement already satisfied, skipping upgrade: Jinja2==2.11.2 in /Library/Frameworks/Python.framework/Versions/3.7/lib/python3.7/site-packages (from dbt-core==0.17.0->dbt==0.17.0) (2.11.2)\n",
      "Requirement already satisfied, skipping upgrade: colorama<0.5,>=0.3.9 in /Library/Frameworks/Python.framework/Versions/3.7/lib/python3.7/site-packages (from dbt-core==0.17.0->dbt==0.17.0) (0.4.1)\n",
      "Requirement already satisfied, skipping upgrade: isodate<0.7,>=0.6 in /Library/Frameworks/Python.framework/Versions/3.7/lib/python3.7/site-packages (from dbt-core==0.17.0->dbt==0.17.0) (0.6.0)\n",
      "Requirement already satisfied, skipping upgrade: hologram==0.0.7 in /Library/Frameworks/Python.framework/Versions/3.7/lib/python3.7/site-packages (from dbt-core==0.17.0->dbt==0.17.0) (0.0.7)\n",
      "Requirement already satisfied, skipping upgrade: logbook<1.6,>=1.5 in /Library/Frameworks/Python.framework/Versions/3.7/lib/python3.7/site-packages (from dbt-core==0.17.0->dbt==0.17.0) (1.5.3)\n",
      "Requirement already satisfied, skipping upgrade: werkzeug<0.17,>=0.15 in /Library/Frameworks/Python.framework/Versions/3.7/lib/python3.7/site-packages (from dbt-core==0.17.0->dbt==0.17.0) (0.16.1)\n",
      "Requirement already satisfied, skipping upgrade: typing-extensions<3.8,>=3.7.4 in /Library/Frameworks/Python.framework/Versions/3.7/lib/python3.7/site-packages (from dbt-core==0.17.0->dbt==0.17.0) (3.7.4.3)\n",
      "Requirement already satisfied, skipping upgrade: cffi<1.14,>=1.9 in /Library/Frameworks/Python.framework/Versions/3.7/lib/python3.7/site-packages (from dbt-core==0.17.0->dbt==0.17.0) (1.12.2)\n",
      "Requirement already satisfied, skipping upgrade: minimal-snowplow-tracker==0.0.2 in /Library/Frameworks/Python.framework/Versions/3.7/lib/python3.7/site-packages (from dbt-core==0.17.0->dbt==0.17.0) (0.0.2)\n",
      "Requirement already satisfied, skipping upgrade: google-api-core<1.17.0,>=1.16.0 in /Library/Frameworks/Python.framework/Versions/3.7/lib/python3.7/site-packages (from dbt-bigquery==0.17.0->dbt==0.17.0) (1.16.0)\n",
      "Requirement already satisfied, skipping upgrade: google-cloud-core<1.4,>=1.3.0 in /Library/Frameworks/Python.framework/Versions/3.7/lib/python3.7/site-packages (from dbt-bigquery==0.17.0->dbt==0.17.0) (1.3.0)\n",
      "Requirement already satisfied, skipping upgrade: protobuf<3.12,>=3.6.0 in /Library/Frameworks/Python.framework/Versions/3.7/lib/python3.7/site-packages (from dbt-bigquery==0.17.0->dbt==0.17.0) (3.11.3)\n",
      "Requirement already satisfied, skipping upgrade: google-cloud-bigquery<1.25.0,>=1.24.0 in /Library/Frameworks/Python.framework/Versions/3.7/lib/python3.7/site-packages (from dbt-bigquery==0.17.0->dbt==0.17.0) (1.24.0)\n",
      "Requirement already satisfied, skipping upgrade: googleapis-common-protos<1.7.0,>=1.6.0 in /Library/Frameworks/Python.framework/Versions/3.7/lib/python3.7/site-packages (from dbt-bigquery==0.17.0->dbt==0.17.0) (1.6.0)\n",
      "Requirement already satisfied, skipping upgrade: six>=1.14.0 in /Library/Frameworks/Python.framework/Versions/3.7/lib/python3.7/site-packages (from dbt-bigquery==0.17.0->dbt==0.17.0) (1.15.0)\n",
      "Requirement already satisfied, skipping upgrade: boto3<1.12,>=1.4.4 in /Library/Frameworks/Python.framework/Versions/3.7/lib/python3.7/site-packages (from dbt-redshift==0.17.0->dbt==0.17.0) (1.11.17)\n",
      "Requirement already satisfied, skipping upgrade: botocore<1.15,>=1.5.0 in /Library/Frameworks/Python.framework/Versions/3.7/lib/python3.7/site-packages (from dbt-redshift==0.17.0->dbt==0.17.0) (1.14.17)\n",
      "Requirement already satisfied, skipping upgrade: asn1crypto>=0.21.0 in /Library/Frameworks/Python.framework/Versions/3.7/lib/python3.7/site-packages (from cryptography<3,>=2->dbt-snowflake==0.17.0->dbt==0.17.0) (1.4.0)\n",
      "Requirement already satisfied, skipping upgrade: pyjwt<2.0.0 in /Library/Frameworks/Python.framework/Versions/3.7/lib/python3.7/site-packages (from snowflake-connector-python==2.2.1->dbt-snowflake==0.17.0->dbt==0.17.0) (1.7.1)\n",
      "Requirement already satisfied, skipping upgrade: oscrypto<2.0.0 in /Library/Frameworks/Python.framework/Versions/3.7/lib/python3.7/site-packages (from snowflake-connector-python==2.2.1->dbt-snowflake==0.17.0->dbt==0.17.0) (1.2.1)\n",
      "Requirement already satisfied, skipping upgrade: certifi<2021.0.0 in /Library/Frameworks/Python.framework/Versions/3.7/lib/python3.7/site-packages (from snowflake-connector-python==2.2.1->dbt-snowflake==0.17.0->dbt==0.17.0) (2019.3.9)\n",
      "Requirement already satisfied, skipping upgrade: pytz<2021.0 in /Library/Frameworks/Python.framework/Versions/3.7/lib/python3.7/site-packages (from snowflake-connector-python==2.2.1->dbt-snowflake==0.17.0->dbt==0.17.0) (2018.9)\n",
      "Requirement already satisfied, skipping upgrade: pyOpenSSL<21.0.0,>=16.2.0 in /Library/Frameworks/Python.framework/Versions/3.7/lib/python3.7/site-packages (from snowflake-connector-python==2.2.1->dbt-snowflake==0.17.0->dbt==0.17.0) (19.1.0)\n",
      "Requirement already satisfied, skipping upgrade: pycryptodomex!=3.5.0,<4.0.0,>=3.2 in /Library/Frameworks/Python.framework/Versions/3.7/lib/python3.7/site-packages (from snowflake-connector-python==2.2.1->dbt-snowflake==0.17.0->dbt==0.17.0) (3.9.8)\n",
      "Requirement already satisfied, skipping upgrade: ijson<3.0.0 in /Library/Frameworks/Python.framework/Versions/3.7/lib/python3.7/site-packages (from snowflake-connector-python==2.2.1->dbt-snowflake==0.17.0->dbt==0.17.0) (2.6.1)\n",
      "Requirement already satisfied, skipping upgrade: azure-storage-common~=2.1 in /Library/Frameworks/Python.framework/Versions/3.7/lib/python3.7/site-packages (from azure-storage-blob<12.0.0->dbt-snowflake==0.17.0->dbt==0.17.0) (2.1.0)\n",
      "Requirement already satisfied, skipping upgrade: decorator>=4.3.0 in /Library/Frameworks/Python.framework/Versions/3.7/lib/python3.7/site-packages (from networkx<3,>=2.3->dbt-core==0.17.0->dbt==0.17.0) (4.4.0)\n",
      "Requirement already satisfied, skipping upgrade: pytimeparse>=1.1.5 in /Library/Frameworks/Python.framework/Versions/3.7/lib/python3.7/site-packages (from agate<2,>=1.6->dbt-core==0.17.0->dbt==0.17.0) (1.1.8)\n",
      "Requirement already satisfied, skipping upgrade: Babel>=2.0 in /Library/Frameworks/Python.framework/Versions/3.7/lib/python3.7/site-packages (from agate<2,>=1.6->dbt-core==0.17.0->dbt==0.17.0) (2.6.0)\n",
      "Requirement already satisfied, skipping upgrade: parsedatetime>=2.1 in /Library/Frameworks/Python.framework/Versions/3.7/lib/python3.7/site-packages (from agate<2,>=1.6->dbt-core==0.17.0->dbt==0.17.0) (2.6)\n",
      "Requirement already satisfied, skipping upgrade: python-slugify>=1.2.1 in /Library/Frameworks/Python.framework/Versions/3.7/lib/python3.7/site-packages (from agate<2,>=1.6->dbt-core==0.17.0->dbt==0.17.0) (3.0.0)\n",
      "Requirement already satisfied, skipping upgrade: leather>=0.3.2 in /Library/Frameworks/Python.framework/Versions/3.7/lib/python3.7/site-packages (from agate<2,>=1.6->dbt-core==0.17.0->dbt==0.17.0) (0.3.3)\n",
      "Requirement already satisfied, skipping upgrade: chardet<3.1.0,>=3.0.2 in /Library/Frameworks/Python.framework/Versions/3.7/lib/python3.7/site-packages (from requests<2.23.0,>=2.18.0->dbt-core==0.17.0->dbt==0.17.0) (3.0.4)\n",
      "Requirement already satisfied, skipping upgrade: MarkupSafe>=0.23 in /Library/Frameworks/Python.framework/Versions/3.7/lib/python3.7/site-packages (from Jinja2==2.11.2->dbt-core==0.17.0->dbt==0.17.0) (1.1.1)\n",
      "Requirement already satisfied, skipping upgrade: jsonschema<3.2 in /Library/Frameworks/Python.framework/Versions/3.7/lib/python3.7/site-packages (from hologram==0.0.7->dbt-core==0.17.0->dbt==0.17.0) (3.0.1)\n",
      "Requirement already satisfied, skipping upgrade: python-dateutil<2.9,>=2.8 in /Library/Frameworks/Python.framework/Versions/3.7/lib/python3.7/site-packages (from hologram==0.0.7->dbt-core==0.17.0->dbt==0.17.0) (2.8.0)\n",
      "Requirement already satisfied, skipping upgrade: pycparser in /Library/Frameworks/Python.framework/Versions/3.7/lib/python3.7/site-packages (from cffi<1.14,>=1.9->dbt-core==0.17.0->dbt==0.17.0) (2.19)\n",
      "Requirement already satisfied, skipping upgrade: setuptools>=34.0.0 in /Library/Frameworks/Python.framework/Versions/3.7/lib/python3.7/site-packages (from google-api-core<1.17.0,>=1.16.0->dbt-bigquery==0.17.0->dbt==0.17.0) (40.6.2)\n",
      "Requirement already satisfied, skipping upgrade: google-auth<2.0dev,>=0.4.0 in /Library/Frameworks/Python.framework/Versions/3.7/lib/python3.7/site-packages (from google-api-core<1.17.0,>=1.16.0->dbt-bigquery==0.17.0->dbt==0.17.0) (1.21.1)\n",
      "Requirement already satisfied, skipping upgrade: google-resumable-media<0.6dev,>=0.5.0 in /Library/Frameworks/Python.framework/Versions/3.7/lib/python3.7/site-packages (from google-cloud-bigquery<1.25.0,>=1.24.0->dbt-bigquery==0.17.0->dbt==0.17.0) (0.5.1)\n",
      "Requirement already satisfied, skipping upgrade: jmespath<1.0.0,>=0.7.1 in /Library/Frameworks/Python.framework/Versions/3.7/lib/python3.7/site-packages (from boto3<1.12,>=1.4.4->dbt-redshift==0.17.0->dbt==0.17.0) (0.10.0)\n",
      "Requirement already satisfied, skipping upgrade: s3transfer<0.4.0,>=0.3.0 in /Library/Frameworks/Python.framework/Versions/3.7/lib/python3.7/site-packages (from boto3<1.12,>=1.4.4->dbt-redshift==0.17.0->dbt==0.17.0) (0.3.3)\n",
      "Requirement already satisfied, skipping upgrade: docutils<0.16,>=0.10 in /Library/Frameworks/Python.framework/Versions/3.7/lib/python3.7/site-packages (from botocore<1.15,>=1.5.0->dbt-redshift==0.17.0->dbt==0.17.0) (0.15.2)\n",
      "Requirement already satisfied, skipping upgrade: text-unidecode==1.2 in /Library/Frameworks/Python.framework/Versions/3.7/lib/python3.7/site-packages (from python-slugify>=1.2.1->agate<2,>=1.6->dbt-core==0.17.0->dbt==0.17.0) (1.2)\n",
      "Requirement already satisfied, skipping upgrade: pyrsistent>=0.14.0 in /Library/Frameworks/Python.framework/Versions/3.7/lib/python3.7/site-packages (from jsonschema<3.2->hologram==0.0.7->dbt-core==0.17.0->dbt==0.17.0) (0.14.11)\n",
      "Requirement already satisfied, skipping upgrade: attrs>=17.4.0 in /Library/Frameworks/Python.framework/Versions/3.7/lib/python3.7/site-packages (from jsonschema<3.2->hologram==0.0.7->dbt-core==0.17.0->dbt==0.17.0) (19.1.0)\n",
      "Requirement already satisfied, skipping upgrade: pyasn1-modules>=0.2.1 in /Library/Frameworks/Python.framework/Versions/3.7/lib/python3.7/site-packages (from google-auth<2.0dev,>=0.4.0->google-api-core<1.17.0,>=1.16.0->dbt-bigquery==0.17.0->dbt==0.17.0) (0.2.8)\n",
      "Requirement already satisfied, skipping upgrade: cachetools<5.0,>=2.0.0 in /Library/Frameworks/Python.framework/Versions/3.7/lib/python3.7/site-packages (from google-auth<2.0dev,>=0.4.0->google-api-core<1.17.0,>=1.16.0->dbt-bigquery==0.17.0->dbt==0.17.0) (4.1.1)\n",
      "Requirement already satisfied, skipping upgrade: rsa<5,>=3.1.4; python_version >= \"3.5\" in /Library/Frameworks/Python.framework/Versions/3.7/lib/python3.7/site-packages (from google-auth<2.0dev,>=0.4.0->google-api-core<1.17.0,>=1.16.0->dbt-bigquery==0.17.0->dbt==0.17.0) (4.6)\n",
      "Requirement already satisfied, skipping upgrade: pyasn1<0.5.0,>=0.4.6 in /Library/Frameworks/Python.framework/Versions/3.7/lib/python3.7/site-packages (from pyasn1-modules>=0.2.1->google-auth<2.0dev,>=0.4.0->google-api-core<1.17.0,>=1.16.0->dbt-bigquery==0.17.0->dbt==0.17.0) (0.4.8)\n",
      "\u001b[33mYou are using pip version 19.0.3, however version 20.2.3 is available.\n",
      "You should consider upgrading via the 'pip install --upgrade pip' command.\u001b[0m\n"
     ]
    }
   ],
   "source": [
    "!pip install --upgrade dbt==0.17.0"
   ]
  },
  {
   "cell_type": "markdown",
   "metadata": {},
   "source": [
    "![Example](https://media.giphy.com/media/gIHEKKhW1g4AugVuiW/giphy.gif)"
   ]
  },
  {
   "cell_type": "markdown",
   "metadata": {},
   "source": [
    "## Verify Installation"
   ]
  },
  {
   "cell_type": "markdown",
   "metadata": {},
   "source": [
    "Let's see if the installation worked, below:"
   ]
  },
  {
   "cell_type": "code",
   "execution_count": 2,
   "metadata": {},
   "outputs": [
    {
     "name": "stdout",
     "output_type": "stream",
     "text": [
      "installed version: 0.17.0\n",
      "   latest version: 0.18.0\n",
      "\n",
      "Your version of dbt is out of date! You can find instructions for upgrading here:\n",
      "https://docs.getdbt.com/docs/installation\n",
      "\n",
      "Plugins:\n",
      "  - bigquery: 0.17.0\n",
      "  - snowflake: 0.17.0\n",
      "  - redshift: 0.17.0\n",
      "  - postgres: 0.17.0\n",
      "\u001b[0m"
     ]
    }
   ],
   "source": [
    "!dbt --version"
   ]
  },
  {
   "cell_type": "code",
   "execution_count": 3,
   "metadata": {},
   "outputs": [
    {
     "name": "stdout",
     "output_type": "stream",
     "text": [
      "usage: dbt [-h] [--version] [-r RECORD_TIMING_INFO] [-d]\n",
      "           [--log-format {text,json,default}] [--no-write-json] [-S]\n",
      "           [--warn-error] [--partial-parse | --no-partial-parse]\n",
      "           {docs,source,init,clean,debug,deps,list,ls,snapshot,rpc,run,compile,test,seed,run-operation}\n",
      "           ...\n",
      "\n",
      "An ELT tool for managing your SQL transformations and data models. For more\n",
      "documentation on these commands, visit: docs.getdbt.com\n",
      "\n",
      "optional arguments:\n",
      "  -h, --help            show this help message and exit\n",
      "  --version             Show version information\n",
      "  -r RECORD_TIMING_INFO, --record-timing-info RECORD_TIMING_INFO\n",
      "                        When this option is passed, dbt will output low-level\n",
      "                        timing stats to the specified file. Example:\n",
      "                        `--record-timing-info output.profile`\n",
      "  -d, --debug           Display debug logging during dbt execution. Useful for\n",
      "                        debugging and making bug reports.\n",
      "  --log-format {text,json,default}\n",
      "                        Specify the log format, overriding the command's\n",
      "                        default.\n",
      "  --no-write-json       If set, skip writing the manifest and run_results.json\n",
      "                        files to disk\n",
      "  -S, --strict          Run schema validations at runtime. This will surface\n",
      "                        bugs in dbt, but may incur a performance penalty.\n",
      "  --warn-error          If dbt would normally warn, instead raise an\n",
      "                        exception. Examples include --models that selects\n",
      "                        nothing, deprecations, configurations with no\n",
      "                        associated models, invalid test configurations, and\n",
      "                        missing sources/refs in tests.\n",
      "  --partial-parse       Allow for partial parsing by looking for and writing\n",
      "                        to a pickle file in the target directory. This\n",
      "                        overrides the user configuration file. WARNING: This\n",
      "                        can result in unexpected behavior if you use\n",
      "                        env_var()!\n",
      "  --no-partial-parse    Disallow partial parsing. This overrides the user\n",
      "                        configuration file.\n",
      "\n",
      "Available sub-commands:\n",
      "  {docs,source,init,clean,debug,deps,list,ls,snapshot,rpc,run,compile,test,seed,run-operation}\n",
      "    docs                Generate or serve the documentation website for your\n",
      "                        project.\n",
      "    source              Manage your project's sources\n",
      "    init                Initialize a new DBT project.\n",
      "    clean               Delete all folders in the clean-targets list (usually\n",
      "                        the dbt_modules and target directories.)\n",
      "    debug               Show some helpful information about dbt for debugging.\n",
      "                        Not to be confused with the --debug option which\n",
      "                        increases verbosity.\n",
      "    deps                Pull the most recent version of the dependencies\n",
      "                        listed in packages.yml\n",
      "    list (ls)           List the resources in your project\n",
      "    snapshot            Execute snapshots defined in your project\n",
      "    rpc                 Start a json-rpc server\n",
      "    run                 Compile SQL and execute against the current target\n",
      "                        database.\n",
      "    compile             Generates executable SQL from source, model, test, and\n",
      "                        analysis files. Compiled SQL files are written to the\n",
      "                        target/ directory.\n",
      "    test                Runs tests on data in deployed models. Run this after\n",
      "                        `dbt run`\n",
      "    seed                Load data from csv files into your data warehouse.\n",
      "    run-operation       Run the named macro with any supplied arguments.\n",
      "\n",
      "Specify one of these sub-commands and you can find more help from there.\n",
      "\u001b[0m"
     ]
    }
   ],
   "source": [
    "!dbt --help"
   ]
  },
  {
   "cell_type": "markdown",
   "metadata": {},
   "source": [
    "![dbt installation - part 2](https://media.giphy.com/media/ThvRceXAKeUxzutyqG/giphy.gif)"
   ]
  }
 ],
 "metadata": {
  "kernelspec": {
   "display_name": "Python (dbt Course)",
   "language": "python",
   "name": "dbtcourse"
  },
  "language_info": {
   "codemirror_mode": {
    "name": "ipython",
    "version": 2
   },
   "file_extension": ".py",
   "mimetype": "text/x-python",
   "name": "python",
   "nbconvert_exporter": "python",
   "pygments_lexer": "ipython2",
   "version": "2.7.15"
  }
 },
 "nbformat": 4,
 "nbformat_minor": 2
}
