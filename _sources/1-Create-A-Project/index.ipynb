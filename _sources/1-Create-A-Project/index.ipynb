{
 "cells": [
  {
   "cell_type": "markdown",
   "metadata": {},
   "source": [
    "# Creating a Project"
   ]
  },
  {
   "cell_type": "markdown",
   "metadata": {},
   "source": [
    "The following will discuss:\n",
    "* Creating a dbt project\n",
    "* DataWarehouse Credentials\n",
    "* "
   ]
  },
  {
   "cell_type": "markdown",
   "metadata": {},
   "source": [
    "## Creating a Repo\n",
    "\n",
    "One can initialize the project through [initializing a dbt project](https://docs.getdbt.com/reference/commands/init), with respective configurations."
   ]
  },
  {
   "cell_type": "markdown",
   "metadata": {},
   "source": [
    "![dbt init](https://media.giphy.com/media/nEUDP7zUhcnJBXyruT/giphy.gif)"
   ]
  },
  {
   "cell_type": "markdown",
   "metadata": {},
   "source": [
    "We see that we create a repository/folder with dbt configurations through the following command.\n",
    "```bash\n",
    "dbt init {project-name}\n",
    "```\n",
    "> Think of it like a cookie cutter implementation to create standard dbt repo.\n",
    "\n",
    "### [Optional] Instantiating with an Adapter\n",
    "If you have dbt version 0.18+, then you can create a profile yml file in your directory, whilst creating the dbt repo.\n",
    "\n",
    "\n",
    "How?\n",
    "\n",
    "There is an option to add an `adapter` via the adapter flag, seen below\n",
    "\n",
    "```bash\n",
    "dbt init {project-name} --adapter {some adapter}\n",
    "```\n",
    "More information about adapters can be [found here](https://docs.getdbt.com/reference/commands/init/#adapter-specific-profile)\n",
    "\n",
    "But why is this file important?\n"
   ]
  },
  {
   "cell_type": "markdown",
   "metadata": {},
   "source": [
    "## Credentials"
   ]
  },
  {
   "cell_type": "markdown",
   "metadata": {},
   "source": [
    "A [profiles.yml file](https://docs.getdbt.com/reference/profiles.yml) for your dbt workflow is a configuration file for storing your particular credentials for executing dbt within your datawarehouse instances.\n",
    "> dbt works as the **transformation** within your warehouse, and leverages said warehouse for such transformations.\n",
    "\n",
    "You can see if you have your profile by going to the following directory\n",
    "\n",
    "```terminal\n",
    "cd ~/.dbt\n",
    "```\n",
    "\n",
    "After, enter `ls` to see if you have a `.profile.yml` file in there. If not, please create one. \n",
    "\n",
    "The following is an example profile for a Cloud Data Platform [Snowflake](https://www.snowflake.com/) setup."
   ]
  },
  {
   "cell_type": "markdown",
   "metadata": {},
   "source": [
    "![dbt profiles path](https://media.giphy.com/media/VomiTTla0LfLrZdHf9/giphy.gif)"
   ]
  },
  {
   "cell_type": "markdown",
   "metadata": {},
   "source": [
    "In it, you'll find a default configuration path for a Redshift example, seen below."
   ]
  },
  {
   "cell_type": "markdown",
   "metadata": {},
   "source": [
    "```yml\n",
    "\n",
    "# For more information on how to configure this file, please see:\n",
    "# https://docs.getdbt.com/docs/profile\n",
    "\n",
    "default:\n",
    "  outputs:\n",
    "    dev:\n",
    "      type: redshift\n",
    "      threads: 1\n",
    "      host: 127.0.0.1\n",
    "      port: 5439\n",
    "      user: alice\n",
    "      pass: pa55word\n",
    "      dbname: warehouse\n",
    "      schema: dbt_alice\n",
    "    prod:\n",
    "      type: redshift\n",
    "      threads: 1\n",
    "      host: 127.0.0.1\n",
    "      port: 5439\n",
    "      user: alice\n",
    "      pass: pa55word\n",
    "      dbname: warehouse\n",
    "      schema: analytics\n",
    "  target: dev\n",
    "                    \n",
    "```"
   ]
  },
  {
   "cell_type": "markdown",
   "metadata": {},
   "source": [
    "Again, recall we will be working within snowflake. So, the [Snowflake configuration path](https://docs.getdbt.com/reference/warehouse-profiles/snowflake-profile/) would like as such:"
   ]
  },
  {
   "cell_type": "markdown",
   "metadata": {},
   "source": [
    "```yml\n",
    "customer-analytics-db:\n",
    "  target: dev\n",
    "  outputs:\n",
    "    dev:\n",
    "      type: snowflake\n",
    "      account: {Some cool account name}\n",
    "\n",
    "      # User/password auth\n",
    "      user: {Super rad username}\n",
    "      password: {3.1415926535897932384626433832795}\n",
    "\n",
    "      role: ROLENAME\n",
    "      database: DEMO_DB\n",
    "      warehouse: COMPUTE_WH\n",
    "      schema: dev_{ldap}\n",
    "      threads: 1\n",
    "      client_session_keep_alive: False\n",
    "    prod:\n",
    "      type: snowflake\n",
    "      account: {Some cool account name}\n",
    "\n",
    "      # User/password auth\n",
    "      user: {Super rad username}\n",
    "      password: {3.1415926535897932384626433832795}\n",
    "\n",
    "      role: ROLENAME\n",
    "      database: DEMO_DB\n",
    "      warehouse: COMPUTE_WH\n",
    "      schema: {official-database}\n",
    "      threads: 1\n",
    "      client_session_keep_alive: False\n",
    "```"
   ]
  }
 ],
 "metadata": {
  "kernelspec": {
   "display_name": "Python (dbt Course)",
   "language": "python",
   "name": "dbtcourse"
  },
  "language_info": {
   "codemirror_mode": {
    "name": "ipython",
    "version": 2
   },
   "file_extension": ".py",
   "mimetype": "text/x-python",
   "name": "python",
   "nbconvert_exporter": "python",
   "pygments_lexer": "ipython2",
   "version": "2.7.15"
  }
 },
 "nbformat": 4,
 "nbformat_minor": 2
}
