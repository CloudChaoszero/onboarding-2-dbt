{
 "cells": [
  {
   "cell_type": "markdown",
   "metadata": {},
   "source": [
    "# Analytic Engineering & dbt: 0-100\n",
    "\n",
    "![dbt Logo](https://docs.getdbt.com/img/dbt-logo-full.png)\n",
    "\n",
    "# Summary\n",
    "\n",
    "This is a quick guide on how to get started and create your data models using dbt (data build tool).\n",
    "dbt is a Python-based packaged for managing `Transform`ations in the ELT (Extract, Load, Transform) lifecyle.\n",
    "\n",
    "* You can find a quick slide deck on dbt from [my past Lighting Talk on dbt, here](https://raulingaverage.dev/Presentations/PyBayTalks/2020/dbt/Lighting-Talk-dbt#/).\n",
    "A video summary of this documentation can [be found here, on Youtube](https://www.youtube.com/playlist?list=PL83V3nc76mDrEfz1rRZ3L2fDYXDGm8yLk).\n",
    "To see the resulting documentation portal, head to [raulingaverage.dev/dbt-Docs-Tutorial-Portal/)](https://raulingaverage.dev/dbt-Docs-Tutorial-Portal/)."
   ]
  },
  {
   "cell_type": "code",
   "execution_count": 4,
   "metadata": {},
   "outputs": [
    {
     "data": {
      "text/html": [
       "\n",
       "<iframe width=\"560\" height=\"315\" src=\"https://www.youtube.com/embed/SDhNA3k0Jhc\" frameborder=\"0\" \n",
       "allow=\"accelerometer; autoplay; clipboard-write; encrypted-media; gyroscope; picture-in-picture\" \n",
       "allowfullscreen></iframe>"
      ],
      "text/plain": [
       "<IPython.core.display.HTML object>"
      ]
     },
     "metadata": {},
     "output_type": "display_data"
    }
   ],
   "source": [
    "%%html\n",
    "\n",
    "<iframe width=\"560\" height=\"315\" src=\"https://www.youtube.com/embed/SDhNA3k0Jhc\" frameborder=\"0\" \n",
    "allow=\"accelerometer; autoplay; clipboard-write; encrypted-media; gyroscope; picture-in-picture\" \n",
    "allowfullscreen></iframe>"
   ]
  },
  {
   "cell_type": "markdown",
   "metadata": {},
   "source": [
    "\n",
    "## Resources\n",
    "\n",
    "### Tutorial\n",
    "\n",
    "* Tutorial: [onboarding-2-dbt](https://github.com/CloudChaoszero/onboarding-2-dbt)\n",
    "* Queries: [customer-analytics Github Repository](https://github.com/CloudChaoszero/customer-analytics)\n",
    "* Youtube Overview: [Analytics Engineering & dbt: 0-100 playlist](https://www.youtube.com/playlist?list=PL83V3nc76mDrEfz1rRZ3L2fDYXDGm8yLk)\n",
    "\n",
    "### dbt Resources\n",
    "* [dbt Documentation](https://docs.getdbt.com/)\n",
    "* [dbt community](https://community.getdbt.com/)\n",
    "\n",
    "## Donate\n",
    "\n",
    "If you would like to support this project, feel free to consider donating to one of the following:\n",
    "\n",
    "* [PyLadies Donation](https://psfmember.org/civicrm/contribute/transact?reset=1&id=6)\n",
    "    * Note: [RLadies](https://rladies.org/) too, but I think they have enough funding, compared to PyLadies. Your choice, of course. :D\n",
    "    * Why? With the recent trend gatekeeping and impact on COVID-19 on women, I feel this is top priority.\n",
    "* [Delta Analytics](http://www.deltanalytics.org/donate.html)\n",
    "    * Why? Nonprofit I volunteer for\n",
    "* [Dev/Mission](https://devmission.org/)\n",
    "    * Why? I really care about minorities, Blackx and Latinx groups going into tech.\n",
    "* [NumFocus Donate](https://numfocus.org/donate)\n",
    "    * Why? <3 Python community\n",
    "\n",
    "# Installation\n",
    "\n",
    "## The Tutorial\n",
    "\n",
    "Go to this repository [customer-analytics](https://github.com/CloudChaoszero/customer-analytics), and enter the following in your CLI (outside of this repo):\n",
    "```bash\n",
    "git clone https://github.com/CloudChaoszero/customer-analytics.git\n",
    "```\n",
    "* Note: I used a Snowflake Trial to implement this tutorial.\n",
    "\n",
    "## Environment\n",
    "\n",
    "```bash\n",
    "conda create --name dbtcourse\n",
    "python -m ipykernel install --user --name dbtcourse --display-name \"Python (dbt Course)\"\n",
    "```"
   ]
  },
  {
   "cell_type": "markdown",
   "metadata": {},
   "source": [
    "![](https://media.giphy.com/media/QYkX9IMHthYn0Y3pcG/giphy.gif)"
   ]
  }
 ],
 "metadata": {
  "kernelspec": {
   "display_name": "Python (dbt Course)",
   "language": "python",
   "name": "dbtcourse"
  },
  "language_info": {
   "codemirror_mode": {
    "name": "ipython",
    "version": 2
   },
   "file_extension": ".py",
   "mimetype": "text/x-python",
   "name": "python",
   "nbconvert_exporter": "python",
   "pygments_lexer": "ipython2",
   "version": "2.7.15"
  }
 },
 "nbformat": 4,
 "nbformat_minor": 2
}
