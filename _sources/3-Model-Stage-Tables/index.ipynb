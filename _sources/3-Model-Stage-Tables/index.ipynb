{
 "cells": [
  {
   "cell_type": "markdown",
   "metadata": {},
   "source": [
    "# Get up to the Stage"
   ]
  },
  {
   "cell_type": "markdown",
   "metadata": {},
   "source": [
    "Great, now we've done some data cleaning and related items in the BASE layer. Now, let's distance ourselves from the essential (Analytics) Data Engineering implementations and proceed on to some more interesting items-- in the Staging layer!\n",
    "\n",
    "You can find the video summary for [this here.](https://www.youtube.com/watch?v=hRCR4ahO1H0&list=PL83V3nc76mDrEfz1rRZ3L2fDYXDGm8yLk&index=9&t=0s)\n",
    "\n",
    "The following are some of the things to consider in this implementation:\n",
    "\n",
    "* Column renaming\n",
    "    * `Required`, if not implemented in BASE layer\n",
    "* JOIN data, if foreign keys exist\n",
    "* Filtering\n",
    "* Custom fields\n",
    "    * E.g. transforming an existing column"
   ]
  },
  {
   "cell_type": "markdown",
   "metadata": {},
   "source": [
    "For example, the following attempts to JOIN other tables through foreign keys in preparation for our data warehouse. \n",
    "> This can be done in the mart layer as well, but I like to do this here\n",
    "\n"
   ]
  },
  {
   "cell_type": "markdown",
   "metadata": {},
   "source": [
    "```sql\n",
    "-- Create the stg_customer_income_band table with a CONCATentation, transformation.\n",
    "WITH source AS (\n",
    "    SELECT * FROM  {{ ref('snowflake_demo_income_band') }}\n",
    "),\n",
    "\n",
    "final AS (\n",
    "\n",
    "    SELECT\n",
    "        ib_income_band_sk AS income_band_sk,\n",
    "        ib_lower_bound || '-' || ib_upper_bound AS income_band_bound\n",
    "    FROM source\n",
    ")\n",
    "\n",
    "SELECT * FROM final\n",
    "```"
   ]
  },
  {
   "cell_type": "markdown",
   "metadata": {},
   "source": [
    "The following is an example of creating a STG layer views for our Customer Catalog Sales:"
   ]
  },
  {
   "cell_type": "markdown",
   "metadata": {},
   "source": [
    "![](https://media.giphy.com/media/LMM2nHKOS720Ev3PnX/giphy.gif)"
   ]
  },
  {
   "cell_type": "markdown",
   "metadata": {},
   "source": [
    "I created all the staging models through this command.\n",
    "```bash\n",
    "dbt run --model stage.*\n",
    "```\n",
    "\n",
    "> You can find other related [dbt run commands here](https://docs.getdbt.com/reference/node-selection/syntax#examples)."
   ]
  }
 ],
 "metadata": {
  "kernelspec": {
   "display_name": "Python (dbt Course)",
   "language": "python",
   "name": "dbtcourse"
  },
  "language_info": {
   "codemirror_mode": {
    "name": "ipython",
    "version": 2
   },
   "file_extension": ".py",
   "mimetype": "text/x-python",
   "name": "python",
   "nbconvert_exporter": "python",
   "pygments_lexer": "ipython2",
   "version": "2.7.15"
  }
 },
 "nbformat": 4,
 "nbformat_minor": 2
}
