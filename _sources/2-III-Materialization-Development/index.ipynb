{
 "cells": [
  {
   "cell_type": "markdown",
   "metadata": {},
   "source": [
    "# Development in BASE"
   ]
  },
  {
   "cell_type": "markdown",
   "metadata": {},
   "source": [
    "You can find a video overview of this [section here](https://www.youtube.com/watch?v=zhCmr3Wb7w4&list=PL83V3nc76mDrEfz1rRZ3L2fDYXDGm8yLk&index=6)."
   ]
  },
  {
   "cell_type": "markdown",
   "metadata": {},
   "source": [
    "## Base Tables - The Design"
   ]
  },
  {
   "cell_type": "markdown",
   "metadata": {},
   "source": [
    "This section, I'll be discussing some of the BASE layer implementations, in preparation of our data mart.\n",
    "\n",
    "However, what is a BASE layer?"
   ]
  },
  {
   "cell_type": "markdown",
   "metadata": {},
   "source": [
    "BASE layer is the intial landing area for our Data Warehours modeling procedure for our Data Nart. It's the \"raw\" layer for ingesting data, in its own purity. \n",
    "\n",
    "For my own preferences and adoption of [Kimball Methodology](https://www.kimballgroup.com/2009/05/the-10-essential-rules-of-dimensional-modeling/), this layer includes the following implementations:\n",
    "\n",
    "* Data Type (Explicity) Definitions \n",
    "* Data Cleaning\n",
    "* Column renaming [Optional, and can be in STAGE Layer]\n",
    "* JSON Unpacking (Feature in Snowflake)\n"
   ]
  },
  {
   "cell_type": "markdown",
   "metadata": {},
   "source": [
    "Here's a visual example, with a subsequent breakdown:"
   ]
  },
  {
   "cell_type": "markdown",
   "metadata": {},
   "source": [
    "![](https://media.giphy.com/media/uQci5UWgVSjyRv5iFr/giphy.gif)\n",
    "\n",
    "```bash\n",
    "dbt run --models tag:website_info # As well\n",
    "dbt run --models tag:customer_info\n",
    "\n",
    "```\n",
    "> Tags are implemented in the raw_schema.yml file"
   ]
  },
  {
   "cell_type": "markdown",
   "metadata": {},
   "source": [
    "## Base Tables - The Implementation"
   ]
  },
  {
   "cell_type": "markdown",
   "metadata": {},
   "source": [
    "### Explicitly Defining Data Types"
   ]
  },
  {
   "cell_type": "markdown",
   "metadata": {},
   "source": [
    "Depending how your first step of your ELT pipeline, Extraction process, you may have some displeasing storage inefficiencies that could affect either timing or costs in your data warehouse. \n",
    "\n",
    "For example, we use Python to push data through Snowflake custom API calls. This data push sends all field's data types as `VARCHAR(XXXXXXXX)` in Snowflake. \n",
    "\n",
    "This can be detrimental in subsequent queries, transformations, or aggregations due to storage size allowed to the fields. With explicit data type conversions, we avoid these long term issues in our data warehouse.\n"
   ]
  },
  {
   "cell_type": "markdown",
   "metadata": {},
   "source": [
    "For example, the following does an explicit data type conversion to `NUMBER`, assuming columns are `VARCHAR(XXXXXXXX)` type.\n",
    "\n",
    "```sql\n",
    "WITH source AS (\n",
    "    SELECT * FROM {{ source('customers', 'CATALOG_SALES')}}\n",
    "    LIMIT 10000 -- Limiting due to data limitation via Trial Account :(\n",
    "),\n",
    "\n",
    "-- Explicitly defining data types & potential renaming\n",
    "data_type_rename_conversion AS (\n",
    "    \n",
    "    SELECT\n",
    "        CS_SOLD_DATE_SK::NUMBER AS CS_SOLD_DATE_SK,\n",
    "        CS_SOLD_TIME_SK::NUMBER AS CS_SOLD_TIME_SK, \n",
    "        CS_SHIP_DATE_SK::NUMBER AS CS_SHIP_DATE_SK,\n",
    "        CS_BILL_CUSTOMER_SK::NUMBER AS CS_BILL_CUSTOMER_S\n",
    "...\n",
    "```\n",
    "\n",
    "> Note: Explicitly defining data types is also useful in [tests around schemas](https://docs.getdbt.com/docs/building-a-dbt-project/tests), which dbt conveniently offers.\n",
    "We'll talk about that in a later section. :)\n"
   ]
  },
  {
   "cell_type": "markdown",
   "metadata": {},
   "source": [
    "### Data Cleaning"
   ]
  },
  {
   "cell_type": "markdown",
   "metadata": {},
   "source": [
    "There are some cases where your data comes in improperly. In the BASE layer, you'd want to proceed with some data cleaning operations such as:\n",
    "* Removing HTML characters\n",
    "* Dealing with NAN, N/A, or Null values\n",
    "\n",
    "```sql\n",
    "CASE WHENNNN tho\n",
    "```\n",
    "\n",
    "* Defining Time Zones\n",
    "* Language Translation\n",
    "* and more!\n",
    "\n",
    "I do not have any defined examples in this example, but this is some items to acknowledge.\n",
    "\n",
    "> **Reader whispers**...Why?\n",
    "\n",
    "The above items could have impact into business reporting for aggregated calculations or summarizations\n",
    "> E.g. \n",
    "* Tabular data with field descriptions\n",
    "* Usage Events of when dates occurred\n"
   ]
  },
  {
   "cell_type": "markdown",
   "metadata": {},
   "source": [
    "### Column Renaming [Optional]"
   ]
  },
  {
   "cell_type": "markdown",
   "metadata": {},
   "source": [
    "Imagine this, raw data landing into your data warehosue like this:\n",
    "\n",
    "| id       | mail                  | label_0    |\n",
    "|----------|-----------------------|------------|\n",
    "| 1/1/1900 | fake.email@aolo.com   | Impression |\n",
    "| 1/1/1900 | real.email@goog1e.com | Click      |\n",
    "\n",
    "What does that all mean? What?\n",
    "> What's worse, what happens if you're trying to create a Data Catalog around these fields? Visually, displeasing.\n",
    "\n",
    "Renaming our columns into human readable formats, or close to it, allows us to clearly understand what we are querying, and focus more on future objectives around that.\n",
    "\n",
    "With some clean up, does this look better?\n",
    "\n",
    "| event_date | user_email            | event_action |\n",
    "|------------|-----------------------|--------------|\n",
    "| 1/1/1900   | fake.email@aolo.com   | Impression   |\n",
    "| 1/1/1900   | real.email@goog1e.com | Click        |\n"
   ]
  },
  {
   "cell_type": "markdown",
   "metadata": {},
   "source": [
    "### Json Unpacking [Snowflake, Optional]"
   ]
  },
  {
   "cell_type": "markdown",
   "metadata": {},
   "source": [
    "Optionally, Snowflake has a cool feature to unpack JSON objects to tabular formats\n",
    "> This is not a sponsorship for Snowflake, just something really cool I use.\n",
    "You can find out more about [JSON unpacking (Querying Semi-structured data) here](https://docs.snowflake.com/en/user-guide/querying-semistructured.html)."
   ]
  },
  {
   "cell_type": "markdown",
   "metadata": {},
   "source": [
    "With all that being said, and executing the aforementioned dbt commands......\n",
    "\n",
    "```bash\n",
    "dbt run --models tag:website_info # Materializing, as well\n",
    "dbt run --models tag:customer_info\n",
    "\n",
    "```\n",
    "\n",
    "we have our tables in our Data Warehouse! :D "
   ]
  },
  {
   "cell_type": "markdown",
   "metadata": {},
   "source": [
    "![](https://media.giphy.com/media/TFiPa1dS3ZkHSqpq0H/giphy.gif)"
   ]
  }
 ],
 "metadata": {
  "kernelspec": {
   "display_name": "Python (dbt Course)",
   "language": "python",
   "name": "dbtcourse"
  },
  "language_info": {
   "codemirror_mode": {
    "name": "ipython",
    "version": 2
   },
   "file_extension": ".py",
   "mimetype": "text/x-python",
   "name": "python",
   "nbconvert_exporter": "python",
   "pygments_lexer": "ipython2",
   "version": "2.7.15"
  }
 },
 "nbformat": 4,
 "nbformat_minor": 2
}
