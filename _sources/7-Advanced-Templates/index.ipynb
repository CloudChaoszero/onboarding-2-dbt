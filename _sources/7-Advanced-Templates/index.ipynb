{
 "cells": [
  {
   "cell_type": "markdown",
   "metadata": {},
   "source": [
    "# Templating & Macros"
   ]
  },
  {
   "cell_type": "markdown",
   "metadata": {},
   "source": [
    "You can find the video summary for this [section here.](https://www.youtube.com/watch?v=21qEHjiRcGU&list=PL83V3nc76mDrEfz1rRZ3L2fDYXDGm8yLk&index=12&t=0s)"
   ]
  },
  {
   "cell_type": "markdown",
   "metadata": {},
   "source": [
    "## Jinja Templates"
   ]
  },
  {
   "cell_type": "markdown",
   "metadata": {},
   "source": [
    "In dbt, you can combine SQL with [Jinja, a templating package in Python](https://jinja.palletsprojects.com/en/2.10.x/).\n",
    "\n",
    "Using Jinja turns your dbt project into a programming environment for SQL, giving you the ability to do things that aren't normally possible in SQL. For example, with Jinja you can:\n",
    "\n",
    "Use control structures (e.g. if statements and for loops) in SQL\n",
    "Use environment variables in your dbt project for production deployments"
   ]
  },
  {
   "cell_type": "markdown",
   "metadata": {},
   "source": [
    "Per [dbt documentation](https://docs.getdbt.com/docs/building-a-dbt-project/jinja-macros/), Jinja is useful for:\n",
    "\n",
    "\n",
    "* \"Use control structures (e.g. if statements and for loops) in SQL\n",
    "* Use environment variables in your dbt project for production deployments\n",
    "* Change the way your project builds based on the current target.\n",
    "* Operate on the results of one query to generate another query, for example:\n",
    "* Abstract snippets of SQL into reusable macros — these are analogous to functions in most programming languages.\n",
    "\""
   ]
  },
  {
   "cell_type": "markdown",
   "metadata": {},
   "source": [
    "Some useful functions in dbt:\n",
    "* References: `{{ ref() }}`\n",
    "* Source: `{{ source('','') }}`\n",
    "\n",
    "And others such as:\n",
    "* Statements `{% ... %}` \n",
    "* Comments `{# ... #}` "
   ]
  },
  {
   "cell_type": "markdown",
   "metadata": {},
   "source": [
    "## Macros\n",
    "\n",
    "dbt provides out of the box utility functions as a part of the package. The following is an example of a dbt.util:\n",
    "\n",
    "```sql\n",
    "SELECT\n",
    "  field_1,\n",
    "  field_2,\n",
    "  field_3,\n",
    "  COUNT(*)\n",
    "FROM aggregated_table\n",
    "{{ dbt_utils.group_by(3) }}\n",
    "```\n",
    "\n",
    "You can enable dbt utils by running the following command\n",
    "\n",
    "dbt deps\n",
    "> Packages get installed in the dbt_modules directory"
   ]
  },
  {
   "cell_type": "markdown",
   "metadata": {},
   "source": [
    "## Templates\n",
    "\n",
    "Personally, I call custom macros templates.\n",
    "\n",
    "> however, macros is a better defined term in the community\n",
    "\n",
    "One can create templates/custom macros through creating such macros and putting them in their designated folder `macros/`.\n",
    "\n",
    "### Custom Macro Example\n",
    "\n",
    "Let’s create a calculation for the Haversine Formula\n",
    "\n",
    "> Not that dbt already created this utility function, [found here](https://github.com/fishtown-analytics/dbt-utils/blob/0.6.2/macros/geo/haversine_distance.sql). This formula calculates the distance between two geographical points, latitude & longitude.\n",
    "\n",
    "In `macros/` folder, we create the `geo_macros.sql` .sql file\n",
    "\n",
    "```sql\n",
    "{% macro haversine_distance_calculation(column_long1, column_lat1, column_long2, column_lat2 ) %}\n",
    "    DEGREES(\n",
    "        ACOS(\n",
    "            LEAST(1.0,\n",
    "                 COS(RADIANS({{column_lat1}})) * COS(RADIANS({{column_lat2}})) *\n",
    "                 COS(RADIANS({{column_long1}}) - RADIANS({{column_long2}})) +\n",
    "                 SIN(RADIANS({{column_lat1}})) * SIN(RADIANS({{column_lat2}}))\n",
    "            )\n",
    "        )\n",
    "    )\n",
    "{% endmacro %}\n",
    "```"
   ]
  },
  {
   "cell_type": "markdown",
   "metadata": {},
   "source": [
    "I would like to add more, but I leave it up to the reader to [learn more about tests](https://docs.getdbt.com/docs/building-a-dbt-project/jinja-macros/) when they are curious about taking those next steps!"
   ]
  }
 ],
 "metadata": {
  "kernelspec": {
   "display_name": "Python (dbt Course)",
   "language": "python",
   "name": "dbtcourse"
  },
  "language_info": {
   "codemirror_mode": {
    "name": "ipython",
    "version": 2
   },
   "file_extension": ".py",
   "mimetype": "text/x-python",
   "name": "python",
   "nbconvert_exporter": "python",
   "pygments_lexer": "ipython2",
   "version": "2.7.15"
  }
 },
 "nbformat": 4,
 "nbformat_minor": 2
}
