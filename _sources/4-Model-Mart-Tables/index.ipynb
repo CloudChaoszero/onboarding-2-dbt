{
 "cells": [
  {
   "cell_type": "markdown",
   "metadata": {},
   "source": [
    "# What are the Facts?"
   ]
  },
  {
   "cell_type": "markdown",
   "metadata": {},
   "source": [
    "The next steps are now creating the Fact and Dimension tables for reporting. These types of tables are created from the [Kimball Methodology](https://www.kimballgroup.com/data-warehouse-business-intelligence-resources/kimball-techniques/dimensional-modeling-techniques/) in our analytics engineering process.\n",
    "\n",
    "\n",
    "\n",
    "The following are some of the things to consider in this implementation:\n",
    "\n",
    "* Dimension and Fact Table Materialization\n",
    "* Embedding business logic (SQL Transformations)\n",
    "* Aggregations"
   ]
  },
  {
   "cell_type": "markdown",
   "metadata": {},
   "source": [
    "# Dimension and Fact Tables"
   ]
  },
  {
   "cell_type": "markdown",
   "metadata": {},
   "source": [
    "Now, we surface the Stage-layer tables into dimensional and fact table reporting. \n",
    "\n",
    "Per Kimball Methodology:\n",
    "\n",
    "* \"A **fact** table contains the numeric measures produced by an operational measurement event in the real world. At the lowest grain, a fact table row corresponds to a measurement event and vice versa\" - [source](https://www.kimballgroup.com/data-warehouse-business-intelligence-resources/kimball-techniques/dimensional-modeling-techniques/fact-table-structure/)\n",
    "* \"**Dimensions** provide the “who, what, where, when, why, and how” context surrounding a business process event. Dimension tables contain the descriptive attributes used by BI applications for ﬁltering and grouping the facts. With the grain of a fact table ﬁrmly in mind, all the possible dimensions can be identiﬁed. Whenever possible, a dimension should be single valued when associated with a given fact row.\" - [source](https://www.kimballgroup.com/data-warehouse-business-intelligence-resources/kimball-techniques/dimensional-modeling-techniques/dimensions-for-context/)\n",
    "\n",
    "\n",
    "The following are some example dbt commands to create our particular tables (based off our dbt project's folder structure):"
   ]
  },
  {
   "cell_type": "markdown",
   "metadata": {},
   "source": [
    "```bash\n",
    "dbt run --models mart.dim.*\n",
    "```"
   ]
  },
  {
   "cell_type": "markdown",
   "metadata": {},
   "source": [
    "```bash\n",
    "dbt run --models mart.fct.*\n",
    "```"
   ]
  },
  {
   "cell_type": "markdown",
   "metadata": {},
   "source": [
    "![Example #1](https://media.giphy.com/media/6ijccOhYrFYauHuEbS/giphy.gif)"
   ]
  },
  {
   "cell_type": "markdown",
   "metadata": {},
   "source": [
    "# Embedding Business Logic"
   ]
  },
  {
   "cell_type": "markdown",
   "metadata": {},
   "source": [
    "Your business stakeholder wants a currency conversion of Net Amount into British Pounds. Moreover, they want the estimated Net Amount per order quantity.\n",
    "\n",
    "That is, your business stakeholder wants the following:\n",
    "* Net Amount (Pounds)\n",
    "* $\\tfrac{\\text{Net Amount (Pounds)}}{\\text{Unit Price}}$ \n",
    "\n",
    "as two additional columns in the catalog sales reporting.\n",
    "\n",
    "How would we go about it?\n",
    "\n",
    "We transform the existing columns in our fact table `catalog_sales_fct`, as seen below:"
   ]
  },
  {
   "cell_type": "markdown",
   "metadata": {},
   "source": [
    "```sql\n",
    "         catalog_sales.*,\n",
    "        -- X $Dollars * (British Pounds / $Dollars)\n",
    "        net_amount * (.77/1) AS net_amount_british_pounds,\n",
    "        net_amount_british_pounds / quantity AS net_amount_per_order_unit_british_pounds\n",
    "```"
   ]
  },
  {
   "cell_type": "markdown",
   "metadata": {},
   "source": [
    "![Example #2](https://media.giphy.com/media/oL7QI2yzB4Y6OLqtZS/giphy.gif)"
   ]
  },
  {
   "cell_type": "markdown",
   "metadata": {},
   "source": [
    "## Aggregations"
   ]
  },
  {
   "cell_type": "markdown",
   "metadata": {},
   "source": [
    "The following is an implementation of aggregating existing data for, well, aggregated tables. This is useful for reports that require:\n",
    "* Overall Summaries\n",
    "* Snappy/Quick reporting updates\n",
    "> Decrease Latency\n",
    "* Avoid Personal Identifiable Information (PII) [compliance concerns](https://searchsecurity.techtarget.com/definition/personally-identifiable-information-PII#:~:text=Personally%20identifiable%20information%20(PII)%20is,data%20can%20be%20considered%20PII.)"
   ]
  },
  {
   "cell_type": "markdown",
   "metadata": {},
   "source": [
    "The following are some example commands and visualizations on finally materializing the aforementioned tables.\n",
    "```bash\n",
    "dbt run --models mart.*\n",
    "```"
   ]
  },
  {
   "cell_type": "markdown",
   "metadata": {},
   "source": [
    "![Example #3](https://media.giphy.com/media/2incYdE802qJB717a2/giphy.gif)"
   ]
  },
  {
   "cell_type": "markdown",
   "metadata": {},
   "source": [
    "In the following, you'll see `dbt` commands for respective materialization types:\n",
    "* dimensions\n",
    "* facts\n",
    "* dimensions + facts (everything in the \"marts\" folder)\n"
   ]
  },
  {
   "cell_type": "markdown",
   "metadata": {},
   "source": [
    "![Example #4](https://media.giphy.com/media/sjHihMUmhYNQrRv7t9/giphy.gif)"
   ]
  },
  {
   "cell_type": "markdown",
   "metadata": {},
   "source": [
    "Congrats! Now you understand materializing tables in dbt, and a process for going about said materialization.\n",
    "\n",
    "However, there is so much more to dbt we have not covered! I wish I could cover more, but sadly we cannot cover all of the, ever growing, dbt functionality. \n",
    "\n",
    "That being said, we will at least cover a couple of additional, useful items. These useful dbt features are:\n",
    "* Documentation\n",
    "* Testing\n",
    "* Advanced Templating\n"
   ]
  }
 ],
 "metadata": {
  "kernelspec": {
   "display_name": "Python (dbt Course)",
   "language": "python",
   "name": "dbtcourse"
  },
  "language_info": {
   "codemirror_mode": {
    "name": "ipython",
    "version": 2
   },
   "file_extension": ".py",
   "mimetype": "text/x-python",
   "name": "python",
   "nbconvert_exporter": "python",
   "pygments_lexer": "ipython2",
   "version": "2.7.15"
  }
 },
 "nbformat": 4,
 "nbformat_minor": 2
}
