{
 "cells": [
  {
   "cell_type": "markdown",
   "metadata": {},
   "source": [
    "# Next Steps!\n",
    "\n",
    "Hopefully this tutorial has helped you out in your next steps into dbt!\n",
    "\n",
    "## Resources\n",
    "\n",
    "If you would like to continue to learn more, check out the following resources:\n",
    "\n",
    "* Tutorial: [dbtOfCourse](https://github.com/CloudChaoszero/dbtOfCourse)\n",
    "* Code: [Github Repository](https://github.com/CloudChaoszero/customer-analytics)\n",
    "* [dbt Slack community](https://community.getdbt.com/)\n",
    "* [dbt Documentation](https://docs.getdbt.com/)\n",
    "* [dbt, getting help with the tool](https://docs.getdbt.com/docs/guides/getting-help/#community-help)\n",
    "\n",
    "## Say thanks by Donating\n",
    "\n",
    "If you would like to support this project, feel free to consider donating to one of the following:\n",
    "\n",
    "* [PyLadies Donation](https://psfmember.org/civicrm/contribute/transact?reset=1&id=6)\n",
    "    * Note: [RLadies](https://rladies.org/) too, but I think they have enough funding, compared to PyLadies. Your choice, of course. :D\n",
    "    * Why? With the recent trend gatekeeping and impact on COVID-19 on women, I feel this is top priority.\n",
    "* [Delta Analytics](http://www.deltanalytics.org/donate.html)\n",
    "    * Why? Nonprofit I volunteer for\n",
    "* [Dev/Mission](https://devmission.org/)\n",
    "    * Why? I really care about minorities, Blackx and Latinx groups going into tech.\n",
    "* [NumFocus Donate](https://numfocus.org/donate)\n",
    "    * Why? <3 Python community\n",
    "\n"
   ]
  },
  {
   "cell_type": "markdown",
   "metadata": {},
   "source": [
    "## Until next time...goodbye!\n",
    "\n",
    "![Bye](https://media.giphy.com/media/1YlqzxnnQwaGc/giphy.gif)"
   ]
  }
 ],
 "metadata": {
  "kernelspec": {
   "display_name": "Python (dbt Course)",
   "language": "python",
   "name": "dbtcourse"
  },
  "language_info": {
   "codemirror_mode": {
    "name": "ipython",
    "version": 2
   },
   "file_extension": ".py",
   "mimetype": "text/x-python",
   "name": "python",
   "nbconvert_exporter": "python",
   "pygments_lexer": "ipython2",
   "version": "2.7.15"
  }
 },
 "nbformat": 4,
 "nbformat_minor": 2
}
