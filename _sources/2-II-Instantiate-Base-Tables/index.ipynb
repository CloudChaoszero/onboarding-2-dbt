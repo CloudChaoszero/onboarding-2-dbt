{
 "cells": [
  {
   "cell_type": "markdown",
   "metadata": {},
   "source": [
    "# Instantiate your Base Tables!"
   ]
  },
  {
   "cell_type": "markdown",
   "metadata": {},
   "source": [
    "You can find an overview of this [section here](https://www.youtube.com/watch?v=c4I_yxypISk&list=PL83V3nc76mDrEfz1rRZ3L2fDYXDGm8yLk&index=5)."
   ]
  },
  {
   "cell_type": "markdown",
   "metadata": {},
   "source": [
    "## Base Table Creation!"
   ]
  },
  {
   "cell_type": "markdown",
   "metadata": {},
   "source": [
    "![](https://media1.tenor.com/images/45ad3e4c2319bd9de6fba68cdfd2c0be/tenor.gif?itemid=5875421)"
   ]
  },
  {
   "cell_type": "markdown",
   "metadata": {},
   "source": [
    "### Folder Path"
   ]
  },
  {
   "cell_type": "markdown",
   "metadata": {},
   "source": [
    "Now onto the fun stuff! We will now create our base tables for our [customer analytics data model](https://github.com/CloudChaoszero/customer-analytics).\n",
    "\n",
    "Assuming you have your source configuration setup, we proceed to create our base folder `Base` folder, seen below:"
   ]
  },
  {
   "cell_type": "markdown",
   "metadata": {},
   "source": [
    "![Base Table Directory](https://media.giphy.com/media/ez9MS4rP9WC0bAtXAF/giphy.gif)"
   ]
  },
  {
   "cell_type": "markdown",
   "metadata": {},
   "source": [
    "### Developing your Query"
   ]
  },
  {
   "cell_type": "markdown",
   "metadata": {},
   "source": [
    "Our first example is creating the base table `snowflake_demo_catalog_sales.sql`, [referenced here](https://github.com/CloudChaoszero/customer-analytics). \n",
    "\n",
    "Suprisingly, there is a naming convention for this table. The convention looks as such:\n",
    "* `{source}_{source_table_name}.sql`\n",
    "\n",
    "> Note: This is by no means an industry standard. That being said, there are different approaches to this methodology in teams or groups you follow.\n"
   ]
  },
  {
   "cell_type": "markdown",
   "metadata": {},
   "source": [
    "\n",
    "`snowflake_demo_catalog_sales.sql`\n",
    "\n",
    "```sql\n",
    "SELECT * \n",
    "FROM\n",
    "    {{ source('customers', 'CATALOG_SALES')}}\n",
    "LIMIT 10000 -- Limiting due to data limitation via Trial Account\n",
    "\n",
    "```"
   ]
  },
  {
   "cell_type": "markdown",
   "metadata": {},
   "source": [
    "### dbt RUN!"
   ]
  },
  {
   "cell_type": "markdown",
   "metadata": {},
   "source": [
    "Now, we run the following command:\n",
    "\n",
    "```bash\n",
    "dbt run --models snowflake_demo_catalog_sales\n",
    "```"
   ]
  },
  {
   "cell_type": "markdown",
   "metadata": {},
   "source": [
    "![Running a model](https://media.giphy.com/media/QQ1VL4EYXFWkLrJzGp/giphy.gif)"
   ]
  },
  {
   "cell_type": "markdown",
   "metadata": {},
   "source": [
    "![](https://i.pinimg.com/originals/fc/b8/bd/fcb8bd2b7cb3f0f81ab72b2b8634341c.gif)"
   ]
  },
  {
   "cell_type": "markdown",
   "metadata": {},
   "source": [
    "## Materialization in (Cloud) Database"
   ]
  },
  {
   "cell_type": "markdown",
   "metadata": {},
   "source": [
    "So what happened?\n",
    "\n",
    "We had a successful run to create our view or table into our database. Congrats!\n"
   ]
  },
  {
   "cell_type": "markdown",
   "metadata": {},
   "source": [
    "![Snowflake Base Table example](https://media.giphy.com/media/BARJD7FlCqKmv3Jy7Q/giphy.gif)"
   ]
  },
  {
   "cell_type": "markdown",
   "metadata": {},
   "source": [
    "### How did I get a Schema Prefix?"
   ]
  },
  {
   "cell_type": "markdown",
   "metadata": {},
   "source": [
    "But you may ask, why is there a `DEV_{name}` as a prefix for the specified schema?\n",
    "\n",
    "Well, this is because our default `target` is set to `dev`, from our `profiles.yml` file. \n",
    "\n",
    "This file contains the specified schema prefix, seen in \"schema\", below:\n",
    "```yaml\n",
    "customer-analytics-db:\n",
    "  target: dev\n",
    "  outputs:\n",
    "    dev:\n",
    "      type: snowflake\n",
    "      account: {Some cool account name}\n",
    "\n",
    "      # User/password auth\n",
    "      user: {Super rad username}\n",
    "      password: {3.1415926535897932384626433832795}\n",
    "\n",
    "      role: ROLENAME\n",
    "      database: DEMO_DB\n",
    "      warehouse: COMPUTE_WH\n",
    "      schema: dev_{ldap}\n",
    "```\n",
    "> Where `dev_{LADP}` is `dev_raulingaverage`, in this case."
   ]
  },
  {
   "cell_type": "markdown",
   "metadata": {},
   "source": [
    "### Aim on the Target"
   ]
  },
  {
   "cell_type": "markdown",
   "metadata": {},
   "source": [
    "Okay, how can I change that to the production (prod) target version?\n",
    "\n",
    "You can do this by specifying your [target access](https://docs.getdbt.com/faqs/seed-custom-schemas/) and materialization by this command.\n",
    "\n",
    "```bash\n",
    "dbt run --target prod --models snowflake_demo_catalog_sales\n",
    "\n",
    "```\n",
    "\n",
    "Before, we implicitly called the following target, but it wasn't shown because we didn't present the `--target` FLAG\n",
    "```bash\n",
    "dbt run --target dev --models snowflake_demo_catalog_sales\n",
    "\n",
    "```"
   ]
  },
  {
   "cell_type": "markdown",
   "metadata": {},
   "source": [
    "![Aim](https://media.tenor.com/images/03e724c41457dee8b38c8970d8e4a2f9/tenor.gif)"
   ]
  },
  {
   "cell_type": "markdown",
   "metadata": {},
   "source": [
    "## Next Steps\n",
    "\n",
    "Next, we'll be going over how to best develop your data mart"
   ]
  }
 ],
 "metadata": {
  "kernelspec": {
   "display_name": "Python (dbt Course)",
   "language": "python",
   "name": "dbtcourse"
  },
  "language_info": {
   "codemirror_mode": {
    "name": "ipython",
    "version": 2
   },
   "file_extension": ".py",
   "mimetype": "text/x-python",
   "name": "python",
   "nbconvert_exporter": "python",
   "pygments_lexer": "ipython2",
   "version": "2.7.15"
  }
 },
 "nbformat": 4,
 "nbformat_minor": 2
}
