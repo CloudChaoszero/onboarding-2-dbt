{
 "cells": [
  {
   "cell_type": "markdown",
   "metadata": {},
   "source": [
    "# Testing, Testing..."
   ]
  },
  {
   "cell_type": "markdown",
   "metadata": {},
   "source": [
    "You can find the video summary for this [section here.](https://www.youtube.com/watch?v=21qEHjiRcGU&list=PL83V3nc76mDrEfz1rRZ3L2fDYXDGm8yLk&index=12&t=0s)"
   ]
  },
  {
   "cell_type": "markdown",
   "metadata": {},
   "source": [
    "dbt Tests allow you to validate your data models in either:\n",
    "* Models\n",
    "* Freshness of data\n",
    "* and other items\n",
    "\n",
    "There are two type of tests:\n",
    "\n",
    "* Built-in, default, schema tests: applied in the .yml file, returns the number of records that do not pass an assertion\n",
    "* Custom data tests\n",
    "\n",
    "\n",
    "Our tests our configured in our dbt Repo in the `dbt_project.yml` configuration\n",
    "```\n",
    "test-paths: [\"tests\"]\n",
    "\n",
    "```\n",
    "\n",
    "The following is a visual example showing the default, custom, and path for our tests."
   ]
  },
  {
   "cell_type": "markdown",
   "metadata": {},
   "source": [
    "![Example](https://media.giphy.com/media/vM02RQqQ73Dzm30FkM/giphy.gif)"
   ]
  },
  {
   "cell_type": "markdown",
   "metadata": {},
   "source": [
    "## Default tests"
   ]
  },
  {
   "cell_type": "markdown",
   "metadata": {},
   "source": [
    "The following is a great way to get started on dbt Tests:\n",
    "> https://docs.getdbt.com/tutorial/setting-up/"
   ]
  },
  {
   "cell_type": "markdown",
   "metadata": {},
   "source": [
    "As an example, we work within the .yml files to create \"schema tests\":\n",
    "Using `dbt test` command, we test the following schema configurations:\n",
    "\n",
    "```sql\n",
    "-- mart_schema.yml\n",
    "version: 2\n",
    "\n",
    "models:\n",
    "  - name: some_table_name\n",
    "    columns:\n",
    "      - name: order_id\n",
    "        tests:\n",
    "          - unique\n",
    "          - not_null\n",
    "      - name: status\n",
    "        tests:\n",
    "          - accepted_values:\n",
    "              values: ['placed', 'shipped', 'completed', 'returned']\n",
    "```"
   ]
  },
  {
   "cell_type": "markdown",
   "metadata": {},
   "source": [
    "## Custom Tests\n",
    "\n",
    "Notice, there is a `test/` folder in our repository. This is a place reserved for creating custom data tests outside of our built-in tests.\n",
    "\n",
    "\n",
    "For example, let's create a test `assert_number_of_rows_catalog_sales.sql` in the `test` folder\n",
    "\n",
    "```sql\n",
    "-- test/assert_number_of_rows_catalog_sales.sql\n",
    "-- Count the total number of rows >= 0.\n",
    "-- Therefore return records where this isn't true to make the test fail.\n",
    "-- Note: This is an equivalent to yml confiug tests -not_null.\n",
    "\n",
    "SELECT\n",
    "    order_number,\n",
    "    COUNT(*) AS total_rows\n",
    "FROM {{ ref('catalog_sales_fct' )}}\n",
    "GROUP BY 1\n",
    "HAVING not(total_rows >= 0)\n",
    "```"
   ]
  },
  {
   "cell_type": "markdown",
   "metadata": {},
   "source": [
    "You can find so much more about dbt tests from the dbt team [here.](https://docs.getdbt.com/docs/building-a-dbt-project/tests/)"
   ]
  }
 ],
 "metadata": {
  "kernelspec": {
   "display_name": "Python (dbt Course)",
   "language": "python",
   "name": "dbtcourse"
  },
  "language_info": {
   "codemirror_mode": {
    "name": "ipython",
    "version": 2
   },
   "file_extension": ".py",
   "mimetype": "text/x-python",
   "name": "python",
   "nbconvert_exporter": "python",
   "pygments_lexer": "ipython2",
   "version": "2.7.15"
  }
 },
 "nbformat": 4,
 "nbformat_minor": 2
}
