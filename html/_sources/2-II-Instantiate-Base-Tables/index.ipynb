{
 "cells": [
  {
   "cell_type": "markdown",
   "metadata": {},
   "source": [
    "# Instantiate your Base Tables!"
   ]
  },
  {
   "cell_type": "markdown",
   "metadata": {},
   "source": [
    "## Base Table Creation!"
   ]
  },
  {
   "cell_type": "markdown",
   "metadata": {},
   "source": [
    "### Folder Path"
   ]
  },
  {
   "cell_type": "markdown",
   "metadata": {},
   "source": [
    "Now onto the fun stuff! We will now create our base tables for our customer analytics data model.\n",
    "\n",
    "Assuming you have your source configuration setup, we proceed to create our base folder `base` folder, seen below:"
   ]
  },
  {
   "cell_type": "markdown",
   "metadata": {},
   "source": [
    "![Base Table Directory](https://media.giphy.com/media/ez9MS4rP9WC0bAtXAF/giphy.gif)"
   ]
  },
  {
   "cell_type": "markdown",
   "metadata": {},
   "source": [
    "### Developing your Query"
   ]
  },
  {
   "cell_type": "markdown",
   "metadata": {},
   "source": [
    "Our first example is creating the base table `snowflake_demo_catalog_sales.sql`. \n",
    "\n",
    "Suprisingly, there is a naming convention for this table. The convention looks as such\n",
    "* `{source}_{source_table_name}.sql`\n",
    "\n",
    "> Note: This is by no means an industry standard. That being said, there are different approaches to this methodology in teams or groups you follow.\n"
   ]
  },
  {
   "cell_type": "markdown",
   "metadata": {},
   "source": [
    "\n",
    "Our table will look as such:\n",
    "`snowflake_demo_catalog_sales.sql`. \n",
    "```sql\n",
    "SELECT * \n",
    "FROM\n",
    "    {{ source('customers', 'CATALOG_SALES')}}\n",
    "LIMIT 10000 -- Limiting due to data limitation via Trial Account\n",
    "\n",
    "```"
   ]
  },
  {
   "cell_type": "markdown",
   "metadata": {},
   "source": [
    "### dbt RUN!"
   ]
  },
  {
   "cell_type": "markdown",
   "metadata": {},
   "source": [
    "Now, we run the following command:\n",
    "```bash\n",
    "dbt run --models snowflake_demo_catalog_sales\n",
    "```\n",
    "\n",
    "seen below"
   ]
  },
  {
   "cell_type": "markdown",
   "metadata": {},
   "source": [
    "![Running a model](https://media.giphy.com/media/QQ1VL4EYXFWkLrJzGp/giphy.gif)"
   ]
  },
  {
   "cell_type": "markdown",
   "metadata": {},
   "source": [
    "## Materialization in (Cloud) Database"
   ]
  },
  {
   "cell_type": "markdown",
   "metadata": {},
   "source": [
    "So what happened?\n",
    "\n",
    "We had a successful run to create our view or table into our database! Congrats\n"
   ]
  },
  {
   "cell_type": "markdown",
   "metadata": {},
   "source": [
    "![Snowflake Base Table example](https://media.giphy.com/media/BARJD7FlCqKmv3Jy7Q/giphy.gif)"
   ]
  },
  {
   "cell_type": "markdown",
   "metadata": {},
   "source": [
    "### How did I get a Schema Prefix?"
   ]
  },
  {
   "cell_type": "markdown",
   "metadata": {},
   "source": [
    "But you may ask, why is there a `DEV_{name}` as a prefix for the specified schema?\n",
    "\n",
    "Well, this is because our default `target` is set to `dev`, from our `profiles.yml` file. This file contains the specified schema prefix, seen in \"schema\", below:\n",
    "```yaml\n",
    "customer-analytics-db:\n",
    "  target: dev\n",
    "  outputs:\n",
    "    dev:\n",
    "      type: snowflake\n",
    "      account: {Some cool account name}\n",
    "\n",
    "      # User/password auth\n",
    "      user: {Super rad username}\n",
    "      password: {3.1415926535897932384626433832795}\n",
    "\n",
    "      role: ROLENAME\n",
    "      database: DEMO_DB\n",
    "      warehouse: COMPUTE_WH\n",
    "      schema: dev_{ldap}\n",
    "```\n",
    "> Where `dev_{LADP}` is `dev_raulingaverage`, in this case."
   ]
  },
  {
   "cell_type": "markdown",
   "metadata": {},
   "source": [
    "### Aim on the Target"
   ]
  },
  {
   "cell_type": "markdown",
   "metadata": {},
   "source": [
    "Okay, how can I change that to the prod version?\n",
    "\n",
    "You can do this by specifying your [target access](https://docs.getdbt.com/faqs/seed-custom-schemas/) and materialization by this command, if you have another path set up\n",
    "\n",
    "```bash\n",
    "dbt run --target prod --models snowflake_demo_catalog_sales\n",
    "\n",
    "```\n",
    "\n",
    "Before, we implicitly called the following target, but it wasn't shown b/c we didn't present the `--target` FLAG\n",
    "```bash\n",
    "dbt run --target dev --models snowflake_demo_catalog_sales\n",
    "\n",
    "```"
   ]
  },
  {
   "cell_type": "markdown",
   "metadata": {},
   "source": [
    "## Next Steps\n",
    "\n",
    "Next, we'll be going over how to best develop and now create a taxing cost on our Cloud database...and our billing :("
   ]
  }
 ],
 "metadata": {
  "kernelspec": {
   "display_name": "Python (dbt Course)",
   "language": "python",
   "name": "dbtcourse"
  },
  "language_info": {
   "codemirror_mode": {
    "name": "ipython",
    "version": 2
   },
   "file_extension": ".py",
   "mimetype": "text/x-python",
   "name": "python",
   "nbconvert_exporter": "python",
   "pygments_lexer": "ipython2",
   "version": "2.7.15"
  }
 },
 "nbformat": 4,
 "nbformat_minor": 2
}
